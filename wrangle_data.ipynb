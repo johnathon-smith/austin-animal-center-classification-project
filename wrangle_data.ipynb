{
 "cells": [
  {
   "cell_type": "markdown",
   "id": "59c654e0",
   "metadata": {},
   "source": [
    "### Wrangle Data"
   ]
  },
  {
   "cell_type": "markdown",
   "id": "80414cb0",
   "metadata": {},
   "source": [
    "The following data was acquired from the Austin Animal Center and was last updated October 11th, 2021. There are two different files. One is for the animal center intakes and the other is for the animal center outcomes. I plan on merging both of these files so that I have information on which animals were adopted and which weren't. I can't just use the outcomes file because it only includes the animals that had a certain outcome."
   ]
  },
  {
   "cell_type": "code",
   "execution_count": 1,
   "id": "a0d5f76a",
   "metadata": {},
   "outputs": [],
   "source": [
    "import numpy as np\n",
    "import pandas as pd\n",
    "import matplotlib.pyplot as plt\n",
    "import seaborn as sns"
   ]
  },
  {
   "cell_type": "markdown",
   "id": "1d3ae469",
   "metadata": {},
   "source": [
    "### Get the Intake Data"
   ]
  },
  {
   "cell_type": "code",
   "execution_count": 2,
   "id": "c10b6b04",
   "metadata": {},
   "outputs": [],
   "source": [
    "intakes = pd.read_csv('Austin_Animal_Center_Intakes.csv')"
   ]
  },
  {
   "cell_type": "code",
   "execution_count": 3,
   "id": "fd76e644",
   "metadata": {},
   "outputs": [
    {
     "data": {
      "text/html": [
       "<div>\n",
       "<style scoped>\n",
       "    .dataframe tbody tr th:only-of-type {\n",
       "        vertical-align: middle;\n",
       "    }\n",
       "\n",
       "    .dataframe tbody tr th {\n",
       "        vertical-align: top;\n",
       "    }\n",
       "\n",
       "    .dataframe thead th {\n",
       "        text-align: right;\n",
       "    }\n",
       "</style>\n",
       "<table border=\"1\" class=\"dataframe\">\n",
       "  <thead>\n",
       "    <tr style=\"text-align: right;\">\n",
       "      <th></th>\n",
       "      <th>Animal ID</th>\n",
       "      <th>Name</th>\n",
       "      <th>DateTime</th>\n",
       "      <th>MonthYear</th>\n",
       "      <th>Found Location</th>\n",
       "      <th>Intake Type</th>\n",
       "      <th>Intake Condition</th>\n",
       "      <th>Animal Type</th>\n",
       "      <th>Sex upon Intake</th>\n",
       "      <th>Age upon Intake</th>\n",
       "      <th>Breed</th>\n",
       "      <th>Color</th>\n",
       "    </tr>\n",
       "  </thead>\n",
       "  <tbody>\n",
       "    <tr>\n",
       "      <th>0</th>\n",
       "      <td>A786884</td>\n",
       "      <td>*Brock</td>\n",
       "      <td>01/03/2019 04:19:00 PM</td>\n",
       "      <td>01/03/2019 04:19:00 PM</td>\n",
       "      <td>2501 Magin Meadow Dr in Austin (TX)</td>\n",
       "      <td>Stray</td>\n",
       "      <td>Normal</td>\n",
       "      <td>Dog</td>\n",
       "      <td>Neutered Male</td>\n",
       "      <td>2 years</td>\n",
       "      <td>Beagle Mix</td>\n",
       "      <td>Tricolor</td>\n",
       "    </tr>\n",
       "    <tr>\n",
       "      <th>1</th>\n",
       "      <td>A706918</td>\n",
       "      <td>Belle</td>\n",
       "      <td>07/05/2015 12:59:00 PM</td>\n",
       "      <td>07/05/2015 12:59:00 PM</td>\n",
       "      <td>9409 Bluegrass Dr in Austin (TX)</td>\n",
       "      <td>Stray</td>\n",
       "      <td>Normal</td>\n",
       "      <td>Dog</td>\n",
       "      <td>Spayed Female</td>\n",
       "      <td>8 years</td>\n",
       "      <td>English Springer Spaniel</td>\n",
       "      <td>White/Liver</td>\n",
       "    </tr>\n",
       "    <tr>\n",
       "      <th>2</th>\n",
       "      <td>A724273</td>\n",
       "      <td>Runster</td>\n",
       "      <td>04/14/2016 06:43:00 PM</td>\n",
       "      <td>04/14/2016 06:43:00 PM</td>\n",
       "      <td>2818 Palomino Trail in Austin (TX)</td>\n",
       "      <td>Stray</td>\n",
       "      <td>Normal</td>\n",
       "      <td>Dog</td>\n",
       "      <td>Intact Male</td>\n",
       "      <td>11 months</td>\n",
       "      <td>Basenji Mix</td>\n",
       "      <td>Sable/White</td>\n",
       "    </tr>\n",
       "    <tr>\n",
       "      <th>3</th>\n",
       "      <td>A665644</td>\n",
       "      <td>NaN</td>\n",
       "      <td>10/21/2013 07:59:00 AM</td>\n",
       "      <td>10/21/2013 07:59:00 AM</td>\n",
       "      <td>Austin (TX)</td>\n",
       "      <td>Stray</td>\n",
       "      <td>Sick</td>\n",
       "      <td>Cat</td>\n",
       "      <td>Intact Female</td>\n",
       "      <td>4 weeks</td>\n",
       "      <td>Domestic Shorthair Mix</td>\n",
       "      <td>Calico</td>\n",
       "    </tr>\n",
       "    <tr>\n",
       "      <th>4</th>\n",
       "      <td>A682524</td>\n",
       "      <td>Rio</td>\n",
       "      <td>06/29/2014 10:38:00 AM</td>\n",
       "      <td>06/29/2014 10:38:00 AM</td>\n",
       "      <td>800 Grove Blvd in Austin (TX)</td>\n",
       "      <td>Stray</td>\n",
       "      <td>Normal</td>\n",
       "      <td>Dog</td>\n",
       "      <td>Neutered Male</td>\n",
       "      <td>4 years</td>\n",
       "      <td>Doberman Pinsch/Australian Cattle Dog</td>\n",
       "      <td>Tan/Gray</td>\n",
       "    </tr>\n",
       "  </tbody>\n",
       "</table>\n",
       "</div>"
      ],
      "text/plain": [
       "  Animal ID     Name                DateTime               MonthYear  \\\n",
       "0   A786884   *Brock  01/03/2019 04:19:00 PM  01/03/2019 04:19:00 PM   \n",
       "1   A706918    Belle  07/05/2015 12:59:00 PM  07/05/2015 12:59:00 PM   \n",
       "2   A724273  Runster  04/14/2016 06:43:00 PM  04/14/2016 06:43:00 PM   \n",
       "3   A665644      NaN  10/21/2013 07:59:00 AM  10/21/2013 07:59:00 AM   \n",
       "4   A682524      Rio  06/29/2014 10:38:00 AM  06/29/2014 10:38:00 AM   \n",
       "\n",
       "                        Found Location Intake Type Intake Condition  \\\n",
       "0  2501 Magin Meadow Dr in Austin (TX)       Stray           Normal   \n",
       "1     9409 Bluegrass Dr in Austin (TX)       Stray           Normal   \n",
       "2   2818 Palomino Trail in Austin (TX)       Stray           Normal   \n",
       "3                          Austin (TX)       Stray             Sick   \n",
       "4        800 Grove Blvd in Austin (TX)       Stray           Normal   \n",
       "\n",
       "  Animal Type Sex upon Intake Age upon Intake  \\\n",
       "0         Dog   Neutered Male         2 years   \n",
       "1         Dog   Spayed Female         8 years   \n",
       "2         Dog     Intact Male       11 months   \n",
       "3         Cat   Intact Female         4 weeks   \n",
       "4         Dog   Neutered Male         4 years   \n",
       "\n",
       "                                   Breed        Color  \n",
       "0                             Beagle Mix     Tricolor  \n",
       "1               English Springer Spaniel  White/Liver  \n",
       "2                            Basenji Mix  Sable/White  \n",
       "3                 Domestic Shorthair Mix       Calico  \n",
       "4  Doberman Pinsch/Australian Cattle Dog     Tan/Gray  "
      ]
     },
     "execution_count": 3,
     "metadata": {},
     "output_type": "execute_result"
    }
   ],
   "source": [
    "intakes.head()"
   ]
  },
  {
   "cell_type": "code",
   "execution_count": 4,
   "id": "a758aa3b",
   "metadata": {},
   "outputs": [
    {
     "name": "stdout",
     "output_type": "stream",
     "text": [
      "<class 'pandas.core.frame.DataFrame'>\n",
      "RangeIndex: 132220 entries, 0 to 132219\n",
      "Data columns (total 12 columns):\n",
      " #   Column            Non-Null Count   Dtype \n",
      "---  ------            --------------   ----- \n",
      " 0   Animal ID         132220 non-null  object\n",
      " 1   Name              91800 non-null   object\n",
      " 2   DateTime          132220 non-null  object\n",
      " 3   MonthYear         132220 non-null  object\n",
      " 4   Found Location    132220 non-null  object\n",
      " 5   Intake Type       132220 non-null  object\n",
      " 6   Intake Condition  132220 non-null  object\n",
      " 7   Animal Type       132220 non-null  object\n",
      " 8   Sex upon Intake   132219 non-null  object\n",
      " 9   Age upon Intake   132220 non-null  object\n",
      " 10  Breed             132220 non-null  object\n",
      " 11  Color             132220 non-null  object\n",
      "dtypes: object(12)\n",
      "memory usage: 12.1+ MB\n"
     ]
    }
   ],
   "source": [
    "intakes.info()"
   ]
  },
  {
   "cell_type": "markdown",
   "id": "b2c41323",
   "metadata": {},
   "source": [
    "Key Takeaways:\n",
    "* There are 132,220 entries.\n",
    "* MonthYear appears to be the same info as DateTime, so I can drop it. I think I will create a new column called 'time_at_shelter' and investigate for a relationship with adoptability.\n",
    "* There are a few null values, but most of them can be dropped without worry.\n",
    "* I will drop 'Name' because it won't have any bearing on adoptability\n",
    "* I will also drop 'Found Location' because it shouldn't matter.\n",
    "* I will drop 'DateTime' after converting it to a datetime object and creating a new column called intake_date.\n",
    "* I will rename the 'Intake Type', 'Intake Condition', 'Animal Type', 'Sex upon Intake', and 'Age upon Intake' columns\n",
    "* There is a single null for 'Sex upon Intake'. I will probably just guess the sex, but may end up dropping it.\n",
    "* The age column can be dropped since I can calculate the age_in_days with the next data set.\n",
    "* The Sex upon Intake column can be dropped. I will use the same information from the outcomes dataset to create the columns I want."
   ]
  },
  {
   "cell_type": "code",
   "execution_count": 5,
   "id": "8bb8ec2c",
   "metadata": {},
   "outputs": [],
   "source": [
    "intakes = intakes.drop(columns = ['Name', 'MonthYear', 'Found Location', 'Age upon Intake', 'Sex upon Intake'])"
   ]
  },
  {
   "cell_type": "code",
   "execution_count": 6,
   "id": "d3068ab1",
   "metadata": {},
   "outputs": [],
   "source": [
    "intakes.rename(columns = {\n",
    "    'Intake Type': 'intake_type',\n",
    "    'Intake Condition': 'intake_condition',\n",
    "    'Animal Type': 'animal_type',\n",
    "}, inplace = True)"
   ]
  },
  {
   "cell_type": "code",
   "execution_count": 7,
   "id": "e5dd5d7d",
   "metadata": {},
   "outputs": [],
   "source": [
    "#Assume the animal with a missing sex value is a netured male\n",
    "intakes = intakes.fillna('Neutered Male')"
   ]
  },
  {
   "cell_type": "code",
   "execution_count": 8,
   "id": "c25029af",
   "metadata": {},
   "outputs": [
    {
     "name": "stdout",
     "output_type": "stream",
     "text": [
      "<class 'pandas.core.frame.DataFrame'>\n",
      "RangeIndex: 132220 entries, 0 to 132219\n",
      "Data columns (total 7 columns):\n",
      " #   Column            Non-Null Count   Dtype \n",
      "---  ------            --------------   ----- \n",
      " 0   Animal ID         132220 non-null  object\n",
      " 1   DateTime          132220 non-null  object\n",
      " 2   intake_type       132220 non-null  object\n",
      " 3   intake_condition  132220 non-null  object\n",
      " 4   animal_type       132220 non-null  object\n",
      " 5   Breed             132220 non-null  object\n",
      " 6   Color             132220 non-null  object\n",
      "dtypes: object(7)\n",
      "memory usage: 7.1+ MB\n"
     ]
    }
   ],
   "source": [
    "intakes.info()"
   ]
  },
  {
   "cell_type": "code",
   "execution_count": 9,
   "id": "3bbd9f08",
   "metadata": {},
   "outputs": [
    {
     "data": {
      "text/plain": [
       "Animal ID           0\n",
       "DateTime            0\n",
       "intake_type         0\n",
       "intake_condition    0\n",
       "animal_type         0\n",
       "Breed               0\n",
       "Color               0\n",
       "dtype: int64"
      ]
     },
     "execution_count": 9,
     "metadata": {},
     "output_type": "execute_result"
    }
   ],
   "source": [
    "intakes.isnull().sum()"
   ]
  },
  {
   "cell_type": "code",
   "execution_count": 10,
   "id": "7154a564",
   "metadata": {},
   "outputs": [],
   "source": [
    "#Convert 'DateTime' to datetime object\n",
    "intakes.DateTime = pd.to_datetime(intakes.DateTime)"
   ]
  },
  {
   "cell_type": "code",
   "execution_count": 11,
   "id": "509c6d28",
   "metadata": {},
   "outputs": [],
   "source": [
    "#Create new column 'intake_date' then drop 'DateTime'\n",
    "intakes['intake_date'] = pd.to_datetime(intakes.DateTime.dt.date)\n",
    "intakes = intakes.drop('DateTime', axis = 1)"
   ]
  },
  {
   "cell_type": "code",
   "execution_count": 12,
   "id": "2e0d179c",
   "metadata": {},
   "outputs": [
    {
     "name": "stdout",
     "output_type": "stream",
     "text": [
      "<class 'pandas.core.frame.DataFrame'>\n",
      "RangeIndex: 132220 entries, 0 to 132219\n",
      "Data columns (total 7 columns):\n",
      " #   Column            Non-Null Count   Dtype         \n",
      "---  ------            --------------   -----         \n",
      " 0   Animal ID         132220 non-null  object        \n",
      " 1   intake_type       132220 non-null  object        \n",
      " 2   intake_condition  132220 non-null  object        \n",
      " 3   animal_type       132220 non-null  object        \n",
      " 4   Breed             132220 non-null  object        \n",
      " 5   Color             132220 non-null  object        \n",
      " 6   intake_date       132220 non-null  datetime64[ns]\n",
      "dtypes: datetime64[ns](1), object(6)\n",
      "memory usage: 7.1+ MB\n"
     ]
    }
   ],
   "source": [
    "intakes.info()"
   ]
  },
  {
   "cell_type": "code",
   "execution_count": 13,
   "id": "0c8bc857",
   "metadata": {},
   "outputs": [],
   "source": [
    "#Now order the dataframe by Animal ID and intake_date.\n",
    "#Then remove duplicates but leave the latest observation\n",
    "intakes = intakes.sort_values(by = ['Animal ID', 'intake_date'])"
   ]
  },
  {
   "cell_type": "code",
   "execution_count": 14,
   "id": "a00a87cd",
   "metadata": {},
   "outputs": [
    {
     "data": {
      "text/html": [
       "<div>\n",
       "<style scoped>\n",
       "    .dataframe tbody tr th:only-of-type {\n",
       "        vertical-align: middle;\n",
       "    }\n",
       "\n",
       "    .dataframe tbody tr th {\n",
       "        vertical-align: top;\n",
       "    }\n",
       "\n",
       "    .dataframe thead th {\n",
       "        text-align: right;\n",
       "    }\n",
       "</style>\n",
       "<table border=\"1\" class=\"dataframe\">\n",
       "  <thead>\n",
       "    <tr style=\"text-align: right;\">\n",
       "      <th></th>\n",
       "      <th>Animal ID</th>\n",
       "      <th>intake_type</th>\n",
       "      <th>intake_condition</th>\n",
       "      <th>animal_type</th>\n",
       "      <th>Breed</th>\n",
       "      <th>Color</th>\n",
       "      <th>intake_date</th>\n",
       "    </tr>\n",
       "  </thead>\n",
       "  <tbody>\n",
       "    <tr>\n",
       "      <th>84165</th>\n",
       "      <td>A006100</td>\n",
       "      <td>Public Assist</td>\n",
       "      <td>Normal</td>\n",
       "      <td>Dog</td>\n",
       "      <td>Spinone Italiano Mix</td>\n",
       "      <td>Yellow/White</td>\n",
       "      <td>2014-03-07</td>\n",
       "    </tr>\n",
       "    <tr>\n",
       "      <th>3988</th>\n",
       "      <td>A006100</td>\n",
       "      <td>Public Assist</td>\n",
       "      <td>Normal</td>\n",
       "      <td>Dog</td>\n",
       "      <td>Spinone Italiano Mix</td>\n",
       "      <td>Yellow/White</td>\n",
       "      <td>2014-12-19</td>\n",
       "    </tr>\n",
       "    <tr>\n",
       "      <th>18633</th>\n",
       "      <td>A006100</td>\n",
       "      <td>Stray</td>\n",
       "      <td>Normal</td>\n",
       "      <td>Dog</td>\n",
       "      <td>Spinone Italiano Mix</td>\n",
       "      <td>Yellow/White</td>\n",
       "      <td>2017-12-07</td>\n",
       "    </tr>\n",
       "    <tr>\n",
       "      <th>65397</th>\n",
       "      <td>A047759</td>\n",
       "      <td>Owner Surrender</td>\n",
       "      <td>Normal</td>\n",
       "      <td>Dog</td>\n",
       "      <td>Dachshund</td>\n",
       "      <td>Tricolor</td>\n",
       "      <td>2014-04-02</td>\n",
       "    </tr>\n",
       "    <tr>\n",
       "      <th>88961</th>\n",
       "      <td>A134067</td>\n",
       "      <td>Public Assist</td>\n",
       "      <td>Injured</td>\n",
       "      <td>Dog</td>\n",
       "      <td>Shetland Sheepdog</td>\n",
       "      <td>Brown/White</td>\n",
       "      <td>2013-11-16</td>\n",
       "    </tr>\n",
       "  </tbody>\n",
       "</table>\n",
       "</div>"
      ],
      "text/plain": [
       "      Animal ID      intake_type intake_condition animal_type  \\\n",
       "84165   A006100    Public Assist           Normal         Dog   \n",
       "3988    A006100    Public Assist           Normal         Dog   \n",
       "18633   A006100            Stray           Normal         Dog   \n",
       "65397   A047759  Owner Surrender           Normal         Dog   \n",
       "88961   A134067    Public Assist          Injured         Dog   \n",
       "\n",
       "                      Breed         Color intake_date  \n",
       "84165  Spinone Italiano Mix  Yellow/White  2014-03-07  \n",
       "3988   Spinone Italiano Mix  Yellow/White  2014-12-19  \n",
       "18633  Spinone Italiano Mix  Yellow/White  2017-12-07  \n",
       "65397             Dachshund      Tricolor  2014-04-02  \n",
       "88961     Shetland Sheepdog   Brown/White  2013-11-16  "
      ]
     },
     "execution_count": 14,
     "metadata": {},
     "output_type": "execute_result"
    }
   ],
   "source": [
    "intakes.head()"
   ]
  },
  {
   "cell_type": "code",
   "execution_count": 15,
   "id": "a18a63c9",
   "metadata": {},
   "outputs": [],
   "source": [
    "#Remove duplicates\n",
    "intakes = intakes.drop_duplicates(subset = 'Animal ID', keep = 'last', ignore_index = True)"
   ]
  },
  {
   "cell_type": "code",
   "execution_count": 16,
   "id": "507d306e",
   "metadata": {},
   "outputs": [
    {
     "data": {
      "text/html": [
       "<div>\n",
       "<style scoped>\n",
       "    .dataframe tbody tr th:only-of-type {\n",
       "        vertical-align: middle;\n",
       "    }\n",
       "\n",
       "    .dataframe tbody tr th {\n",
       "        vertical-align: top;\n",
       "    }\n",
       "\n",
       "    .dataframe thead th {\n",
       "        text-align: right;\n",
       "    }\n",
       "</style>\n",
       "<table border=\"1\" class=\"dataframe\">\n",
       "  <thead>\n",
       "    <tr style=\"text-align: right;\">\n",
       "      <th></th>\n",
       "      <th>Animal ID</th>\n",
       "      <th>intake_type</th>\n",
       "      <th>intake_condition</th>\n",
       "      <th>animal_type</th>\n",
       "      <th>Breed</th>\n",
       "      <th>Color</th>\n",
       "      <th>intake_date</th>\n",
       "    </tr>\n",
       "  </thead>\n",
       "  <tbody>\n",
       "    <tr>\n",
       "      <th>0</th>\n",
       "      <td>A006100</td>\n",
       "      <td>Stray</td>\n",
       "      <td>Normal</td>\n",
       "      <td>Dog</td>\n",
       "      <td>Spinone Italiano Mix</td>\n",
       "      <td>Yellow/White</td>\n",
       "      <td>2017-12-07</td>\n",
       "    </tr>\n",
       "    <tr>\n",
       "      <th>1</th>\n",
       "      <td>A047759</td>\n",
       "      <td>Owner Surrender</td>\n",
       "      <td>Normal</td>\n",
       "      <td>Dog</td>\n",
       "      <td>Dachshund</td>\n",
       "      <td>Tricolor</td>\n",
       "      <td>2014-04-02</td>\n",
       "    </tr>\n",
       "    <tr>\n",
       "      <th>2</th>\n",
       "      <td>A134067</td>\n",
       "      <td>Public Assist</td>\n",
       "      <td>Injured</td>\n",
       "      <td>Dog</td>\n",
       "      <td>Shetland Sheepdog</td>\n",
       "      <td>Brown/White</td>\n",
       "      <td>2013-11-16</td>\n",
       "    </tr>\n",
       "    <tr>\n",
       "      <th>3</th>\n",
       "      <td>A141142</td>\n",
       "      <td>Stray</td>\n",
       "      <td>Aged</td>\n",
       "      <td>Dog</td>\n",
       "      <td>Labrador Retriever/Pit Bull</td>\n",
       "      <td>Black/White</td>\n",
       "      <td>2013-11-16</td>\n",
       "    </tr>\n",
       "    <tr>\n",
       "      <th>4</th>\n",
       "      <td>A163459</td>\n",
       "      <td>Stray</td>\n",
       "      <td>Normal</td>\n",
       "      <td>Dog</td>\n",
       "      <td>Miniature Schnauzer Mix</td>\n",
       "      <td>Black/Gray</td>\n",
       "      <td>2014-11-14</td>\n",
       "    </tr>\n",
       "  </tbody>\n",
       "</table>\n",
       "</div>"
      ],
      "text/plain": [
       "  Animal ID      intake_type intake_condition animal_type  \\\n",
       "0   A006100            Stray           Normal         Dog   \n",
       "1   A047759  Owner Surrender           Normal         Dog   \n",
       "2   A134067    Public Assist          Injured         Dog   \n",
       "3   A141142            Stray             Aged         Dog   \n",
       "4   A163459            Stray           Normal         Dog   \n",
       "\n",
       "                         Breed         Color intake_date  \n",
       "0         Spinone Italiano Mix  Yellow/White  2017-12-07  \n",
       "1                    Dachshund      Tricolor  2014-04-02  \n",
       "2            Shetland Sheepdog   Brown/White  2013-11-16  \n",
       "3  Labrador Retriever/Pit Bull   Black/White  2013-11-16  \n",
       "4      Miniature Schnauzer Mix    Black/Gray  2014-11-14  "
      ]
     },
     "execution_count": 16,
     "metadata": {},
     "output_type": "execute_result"
    }
   ],
   "source": [
    "intakes.head()"
   ]
  },
  {
   "cell_type": "code",
   "execution_count": 17,
   "id": "a9ac36ba",
   "metadata": {},
   "outputs": [
    {
     "name": "stdout",
     "output_type": "stream",
     "text": [
      "<class 'pandas.core.frame.DataFrame'>\n",
      "RangeIndex: 118225 entries, 0 to 118224\n",
      "Data columns (total 7 columns):\n",
      " #   Column            Non-Null Count   Dtype         \n",
      "---  ------            --------------   -----         \n",
      " 0   Animal ID         118225 non-null  object        \n",
      " 1   intake_type       118225 non-null  object        \n",
      " 2   intake_condition  118225 non-null  object        \n",
      " 3   animal_type       118225 non-null  object        \n",
      " 4   Breed             118225 non-null  object        \n",
      " 5   Color             118225 non-null  object        \n",
      " 6   intake_date       118225 non-null  datetime64[ns]\n",
      "dtypes: datetime64[ns](1), object(6)\n",
      "memory usage: 6.3+ MB\n"
     ]
    }
   ],
   "source": [
    "intakes.info()"
   ]
  },
  {
   "cell_type": "markdown",
   "id": "bf874e3b",
   "metadata": {},
   "source": [
    "### Acquire Outcome Data"
   ]
  },
  {
   "cell_type": "code",
   "execution_count": 18,
   "id": "a1a09aaa",
   "metadata": {},
   "outputs": [],
   "source": [
    "outcomes = pd.read_csv('Austin_Animal_Center_Outcomes.csv')"
   ]
  },
  {
   "cell_type": "code",
   "execution_count": 19,
   "id": "b12c397b",
   "metadata": {},
   "outputs": [
    {
     "data": {
      "text/html": [
       "<div>\n",
       "<style scoped>\n",
       "    .dataframe tbody tr th:only-of-type {\n",
       "        vertical-align: middle;\n",
       "    }\n",
       "\n",
       "    .dataframe tbody tr th {\n",
       "        vertical-align: top;\n",
       "    }\n",
       "\n",
       "    .dataframe thead th {\n",
       "        text-align: right;\n",
       "    }\n",
       "</style>\n",
       "<table border=\"1\" class=\"dataframe\">\n",
       "  <thead>\n",
       "    <tr style=\"text-align: right;\">\n",
       "      <th></th>\n",
       "      <th>Animal ID</th>\n",
       "      <th>Name</th>\n",
       "      <th>DateTime</th>\n",
       "      <th>MonthYear</th>\n",
       "      <th>Date of Birth</th>\n",
       "      <th>Outcome Type</th>\n",
       "      <th>Outcome Subtype</th>\n",
       "      <th>Animal Type</th>\n",
       "      <th>Sex upon Outcome</th>\n",
       "      <th>Age upon Outcome</th>\n",
       "      <th>Breed</th>\n",
       "      <th>Color</th>\n",
       "    </tr>\n",
       "  </thead>\n",
       "  <tbody>\n",
       "    <tr>\n",
       "      <th>0</th>\n",
       "      <td>A794011</td>\n",
       "      <td>Chunk</td>\n",
       "      <td>05/08/2019 06:20:00 PM</td>\n",
       "      <td>05/08/2019 06:20:00 PM</td>\n",
       "      <td>05/02/2017</td>\n",
       "      <td>Rto-Adopt</td>\n",
       "      <td>NaN</td>\n",
       "      <td>Cat</td>\n",
       "      <td>Neutered Male</td>\n",
       "      <td>2 years</td>\n",
       "      <td>Domestic Shorthair Mix</td>\n",
       "      <td>Brown Tabby/White</td>\n",
       "    </tr>\n",
       "    <tr>\n",
       "      <th>1</th>\n",
       "      <td>A776359</td>\n",
       "      <td>Gizmo</td>\n",
       "      <td>07/18/2018 04:02:00 PM</td>\n",
       "      <td>07/18/2018 04:02:00 PM</td>\n",
       "      <td>07/12/2017</td>\n",
       "      <td>Adoption</td>\n",
       "      <td>NaN</td>\n",
       "      <td>Dog</td>\n",
       "      <td>Neutered Male</td>\n",
       "      <td>1 year</td>\n",
       "      <td>Chihuahua Shorthair Mix</td>\n",
       "      <td>White/Brown</td>\n",
       "    </tr>\n",
       "    <tr>\n",
       "      <th>2</th>\n",
       "      <td>A821648</td>\n",
       "      <td>NaN</td>\n",
       "      <td>08/16/2020 11:38:00 AM</td>\n",
       "      <td>08/16/2020 11:38:00 AM</td>\n",
       "      <td>08/16/2019</td>\n",
       "      <td>Euthanasia</td>\n",
       "      <td>NaN</td>\n",
       "      <td>Other</td>\n",
       "      <td>Unknown</td>\n",
       "      <td>1 year</td>\n",
       "      <td>Raccoon</td>\n",
       "      <td>Gray</td>\n",
       "    </tr>\n",
       "    <tr>\n",
       "      <th>3</th>\n",
       "      <td>A720371</td>\n",
       "      <td>Moose</td>\n",
       "      <td>02/13/2016 05:59:00 PM</td>\n",
       "      <td>02/13/2016 05:59:00 PM</td>\n",
       "      <td>10/08/2015</td>\n",
       "      <td>Adoption</td>\n",
       "      <td>NaN</td>\n",
       "      <td>Dog</td>\n",
       "      <td>Neutered Male</td>\n",
       "      <td>4 months</td>\n",
       "      <td>Anatol Shepherd/Labrador Retriever</td>\n",
       "      <td>Buff</td>\n",
       "    </tr>\n",
       "    <tr>\n",
       "      <th>4</th>\n",
       "      <td>A674754</td>\n",
       "      <td>NaN</td>\n",
       "      <td>03/18/2014 11:47:00 AM</td>\n",
       "      <td>03/18/2014 11:47:00 AM</td>\n",
       "      <td>03/12/2014</td>\n",
       "      <td>Transfer</td>\n",
       "      <td>Partner</td>\n",
       "      <td>Cat</td>\n",
       "      <td>Intact Male</td>\n",
       "      <td>6 days</td>\n",
       "      <td>Domestic Shorthair Mix</td>\n",
       "      <td>Orange Tabby</td>\n",
       "    </tr>\n",
       "  </tbody>\n",
       "</table>\n",
       "</div>"
      ],
      "text/plain": [
       "  Animal ID   Name                DateTime               MonthYear  \\\n",
       "0   A794011  Chunk  05/08/2019 06:20:00 PM  05/08/2019 06:20:00 PM   \n",
       "1   A776359  Gizmo  07/18/2018 04:02:00 PM  07/18/2018 04:02:00 PM   \n",
       "2   A821648    NaN  08/16/2020 11:38:00 AM  08/16/2020 11:38:00 AM   \n",
       "3   A720371  Moose  02/13/2016 05:59:00 PM  02/13/2016 05:59:00 PM   \n",
       "4   A674754    NaN  03/18/2014 11:47:00 AM  03/18/2014 11:47:00 AM   \n",
       "\n",
       "  Date of Birth Outcome Type Outcome Subtype Animal Type Sex upon Outcome  \\\n",
       "0    05/02/2017    Rto-Adopt             NaN         Cat    Neutered Male   \n",
       "1    07/12/2017     Adoption             NaN         Dog    Neutered Male   \n",
       "2    08/16/2019   Euthanasia             NaN       Other          Unknown   \n",
       "3    10/08/2015     Adoption             NaN         Dog    Neutered Male   \n",
       "4    03/12/2014     Transfer         Partner         Cat      Intact Male   \n",
       "\n",
       "  Age upon Outcome                               Breed              Color  \n",
       "0          2 years              Domestic Shorthair Mix  Brown Tabby/White  \n",
       "1           1 year             Chihuahua Shorthair Mix        White/Brown  \n",
       "2           1 year                             Raccoon               Gray  \n",
       "3         4 months  Anatol Shepherd/Labrador Retriever               Buff  \n",
       "4           6 days              Domestic Shorthair Mix       Orange Tabby  "
      ]
     },
     "execution_count": 19,
     "metadata": {},
     "output_type": "execute_result"
    }
   ],
   "source": [
    "outcomes.head()"
   ]
  },
  {
   "cell_type": "code",
   "execution_count": 20,
   "id": "e933cca7",
   "metadata": {},
   "outputs": [
    {
     "name": "stdout",
     "output_type": "stream",
     "text": [
      "<class 'pandas.core.frame.DataFrame'>\n",
      "RangeIndex: 132327 entries, 0 to 132326\n",
      "Data columns (total 12 columns):\n",
      " #   Column            Non-Null Count   Dtype \n",
      "---  ------            --------------   ----- \n",
      " 0   Animal ID         132327 non-null  object\n",
      " 1   Name              91926 non-null   object\n",
      " 2   DateTime          132327 non-null  object\n",
      " 3   MonthYear         132327 non-null  object\n",
      " 4   Date of Birth     132327 non-null  object\n",
      " 5   Outcome Type      132302 non-null  object\n",
      " 6   Outcome Subtype   60804 non-null   object\n",
      " 7   Animal Type       132327 non-null  object\n",
      " 8   Sex upon Outcome  132326 non-null  object\n",
      " 9   Age upon Outcome  132307 non-null  object\n",
      " 10  Breed             132327 non-null  object\n",
      " 11  Color             132327 non-null  object\n",
      "dtypes: object(12)\n",
      "memory usage: 12.1+ MB\n"
     ]
    }
   ],
   "source": [
    "outcomes.info()"
   ]
  },
  {
   "cell_type": "markdown",
   "id": "83e9624b",
   "metadata": {},
   "source": [
    "Key Takeaways:\n",
    "* There are 127 more entries here than in the intakes dataset for some reason. \n",
    "* The Name column can be dropped\n",
    "* The DateTime column will be dropped after creating a new column called 'outcome_date'. I will also need to use it to calculate time at shelter.\n",
    "* The MonthYear column can be dropped\n",
    "* The Date of Birth column will be dropped after creating a new column called 'outcome_age'\n",
    "* The Outcome type column will be renamed\n",
    "* I will also drop all rows where the outcome type is transfer, since I cannot tell if these animals were ever adopted or not.\n",
    "* I only need to know if the animal was adopted or not, so outcome subtype can be dropped.\n",
    "* The Animal Type column can be dropped since it should be the same as the previous dataset\n",
    "* The Sex upon Outcome column will be used to set up two new columns. The first will be the sex of the animal, and the second will be whether or not the animal was spayed or neutered.\n",
    "* The Age upon Outcome column will be dropped\n",
    "* The Breed and Color columns will be dropped since that information is in the first dataset"
   ]
  },
  {
   "cell_type": "code",
   "execution_count": 21,
   "id": "da010b83",
   "metadata": {},
   "outputs": [],
   "source": [
    "#convert DateTime column to datetime object and then create new column 'outcome_date'\n",
    "outcomes.DateTime = pd.to_datetime(outcomes.DateTime)"
   ]
  },
  {
   "cell_type": "code",
   "execution_count": 22,
   "id": "cf413b72",
   "metadata": {},
   "outputs": [],
   "source": [
    "outcomes['outcome_date'] = pd.to_datetime(outcomes.DateTime.dt.date)"
   ]
  },
  {
   "cell_type": "code",
   "execution_count": 23,
   "id": "e2edde9f",
   "metadata": {},
   "outputs": [],
   "source": [
    "#convert date of birth to datetime object and then create new column 'age_in_days'\n",
    "outcomes['Date of Birth'] = pd.to_datetime(outcomes['Date of Birth'])"
   ]
  },
  {
   "cell_type": "code",
   "execution_count": 24,
   "id": "eabfe21f",
   "metadata": {},
   "outputs": [],
   "source": [
    "outcomes['age_in_days'] = (outcomes.outcome_date - outcomes['Date of Birth']) // pd.Timedelta('1d')"
   ]
  },
  {
   "cell_type": "code",
   "execution_count": 25,
   "id": "b8be9e05",
   "metadata": {},
   "outputs": [],
   "source": [
    "outcomes = outcomes.drop(columns = [\n",
    "    'Name',\n",
    "    'DateTime',\n",
    "    'MonthYear',\n",
    "    'Date of Birth',\n",
    "    'Outcome Subtype',\n",
    "    'Animal Type',\n",
    "    'Age upon Outcome',\n",
    "    'Breed',\n",
    "    'Color'\n",
    "])"
   ]
  },
  {
   "cell_type": "code",
   "execution_count": 26,
   "id": "bc696eab",
   "metadata": {},
   "outputs": [
    {
     "name": "stdout",
     "output_type": "stream",
     "text": [
      "<class 'pandas.core.frame.DataFrame'>\n",
      "RangeIndex: 132327 entries, 0 to 132326\n",
      "Data columns (total 5 columns):\n",
      " #   Column            Non-Null Count   Dtype         \n",
      "---  ------            --------------   -----         \n",
      " 0   Animal ID         132327 non-null  object        \n",
      " 1   Outcome Type      132302 non-null  object        \n",
      " 2   Sex upon Outcome  132326 non-null  object        \n",
      " 3   outcome_date      132327 non-null  datetime64[ns]\n",
      " 4   age_in_days       132327 non-null  int64         \n",
      "dtypes: datetime64[ns](1), int64(1), object(3)\n",
      "memory usage: 5.0+ MB\n"
     ]
    }
   ],
   "source": [
    "outcomes.info()"
   ]
  },
  {
   "cell_type": "code",
   "execution_count": 27,
   "id": "6a8885fd",
   "metadata": {},
   "outputs": [],
   "source": [
    "outcomes.rename(columns = {'Outcome Type':'outcome_type'}, inplace = True)"
   ]
  },
  {
   "cell_type": "code",
   "execution_count": 28,
   "id": "84da428f",
   "metadata": {},
   "outputs": [],
   "source": [
    "#Now order the dataframe by Animal ID and intake_date.\n",
    "#Then remove duplicates but leave the latest observation\n",
    "outcomes = outcomes.sort_values(by = ['Animal ID', 'outcome_date'])"
   ]
  },
  {
   "cell_type": "code",
   "execution_count": 29,
   "id": "f8ecabbb",
   "metadata": {},
   "outputs": [
    {
     "data": {
      "text/html": [
       "<div>\n",
       "<style scoped>\n",
       "    .dataframe tbody tr th:only-of-type {\n",
       "        vertical-align: middle;\n",
       "    }\n",
       "\n",
       "    .dataframe tbody tr th {\n",
       "        vertical-align: top;\n",
       "    }\n",
       "\n",
       "    .dataframe thead th {\n",
       "        text-align: right;\n",
       "    }\n",
       "</style>\n",
       "<table border=\"1\" class=\"dataframe\">\n",
       "  <thead>\n",
       "    <tr style=\"text-align: right;\">\n",
       "      <th></th>\n",
       "      <th>Animal ID</th>\n",
       "      <th>outcome_type</th>\n",
       "      <th>Sex upon Outcome</th>\n",
       "      <th>outcome_date</th>\n",
       "      <th>age_in_days</th>\n",
       "    </tr>\n",
       "  </thead>\n",
       "  <tbody>\n",
       "    <tr>\n",
       "      <th>106962</th>\n",
       "      <td>A006100</td>\n",
       "      <td>Return to Owner</td>\n",
       "      <td>Neutered Male</td>\n",
       "      <td>2014-03-08</td>\n",
       "      <td>2434</td>\n",
       "    </tr>\n",
       "    <tr>\n",
       "      <th>52564</th>\n",
       "      <td>A006100</td>\n",
       "      <td>Return to Owner</td>\n",
       "      <td>Neutered Male</td>\n",
       "      <td>2014-12-20</td>\n",
       "      <td>2721</td>\n",
       "    </tr>\n",
       "    <tr>\n",
       "      <th>94209</th>\n",
       "      <td>A006100</td>\n",
       "      <td>Return to Owner</td>\n",
       "      <td>Neutered Male</td>\n",
       "      <td>2017-12-07</td>\n",
       "      <td>3804</td>\n",
       "    </tr>\n",
       "    <tr>\n",
       "      <th>36294</th>\n",
       "      <td>A047759</td>\n",
       "      <td>Transfer</td>\n",
       "      <td>Neutered Male</td>\n",
       "      <td>2014-04-07</td>\n",
       "      <td>3657</td>\n",
       "    </tr>\n",
       "    <tr>\n",
       "      <th>75671</th>\n",
       "      <td>A134067</td>\n",
       "      <td>Return to Owner</td>\n",
       "      <td>Neutered Male</td>\n",
       "      <td>2013-11-16</td>\n",
       "      <td>5875</td>\n",
       "    </tr>\n",
       "  </tbody>\n",
       "</table>\n",
       "</div>"
      ],
      "text/plain": [
       "       Animal ID     outcome_type Sex upon Outcome outcome_date  age_in_days\n",
       "106962   A006100  Return to Owner    Neutered Male   2014-03-08         2434\n",
       "52564    A006100  Return to Owner    Neutered Male   2014-12-20         2721\n",
       "94209    A006100  Return to Owner    Neutered Male   2017-12-07         3804\n",
       "36294    A047759         Transfer    Neutered Male   2014-04-07         3657\n",
       "75671    A134067  Return to Owner    Neutered Male   2013-11-16         5875"
      ]
     },
     "execution_count": 29,
     "metadata": {},
     "output_type": "execute_result"
    }
   ],
   "source": [
    "outcomes.head()"
   ]
  },
  {
   "cell_type": "code",
   "execution_count": 30,
   "id": "ee44ec83",
   "metadata": {},
   "outputs": [],
   "source": [
    "#Drop duplicates\n",
    "outcomes = outcomes.drop_duplicates(subset = 'Animal ID', keep = 'last', ignore_index = True)"
   ]
  },
  {
   "cell_type": "code",
   "execution_count": 31,
   "id": "8fce1e41",
   "metadata": {},
   "outputs": [
    {
     "data": {
      "text/html": [
       "<div>\n",
       "<style scoped>\n",
       "    .dataframe tbody tr th:only-of-type {\n",
       "        vertical-align: middle;\n",
       "    }\n",
       "\n",
       "    .dataframe tbody tr th {\n",
       "        vertical-align: top;\n",
       "    }\n",
       "\n",
       "    .dataframe thead th {\n",
       "        text-align: right;\n",
       "    }\n",
       "</style>\n",
       "<table border=\"1\" class=\"dataframe\">\n",
       "  <thead>\n",
       "    <tr style=\"text-align: right;\">\n",
       "      <th></th>\n",
       "      <th>Animal ID</th>\n",
       "      <th>outcome_type</th>\n",
       "      <th>Sex upon Outcome</th>\n",
       "      <th>outcome_date</th>\n",
       "      <th>age_in_days</th>\n",
       "    </tr>\n",
       "  </thead>\n",
       "  <tbody>\n",
       "    <tr>\n",
       "      <th>0</th>\n",
       "      <td>A006100</td>\n",
       "      <td>Return to Owner</td>\n",
       "      <td>Neutered Male</td>\n",
       "      <td>2017-12-07</td>\n",
       "      <td>3804</td>\n",
       "    </tr>\n",
       "    <tr>\n",
       "      <th>1</th>\n",
       "      <td>A047759</td>\n",
       "      <td>Transfer</td>\n",
       "      <td>Neutered Male</td>\n",
       "      <td>2014-04-07</td>\n",
       "      <td>3657</td>\n",
       "    </tr>\n",
       "    <tr>\n",
       "      <th>2</th>\n",
       "      <td>A134067</td>\n",
       "      <td>Return to Owner</td>\n",
       "      <td>Neutered Male</td>\n",
       "      <td>2013-11-16</td>\n",
       "      <td>5875</td>\n",
       "    </tr>\n",
       "    <tr>\n",
       "      <th>3</th>\n",
       "      <td>A141142</td>\n",
       "      <td>Return to Owner</td>\n",
       "      <td>Spayed Female</td>\n",
       "      <td>2013-11-17</td>\n",
       "      <td>5648</td>\n",
       "    </tr>\n",
       "    <tr>\n",
       "      <th>4</th>\n",
       "      <td>A163459</td>\n",
       "      <td>Return to Owner</td>\n",
       "      <td>Intact Female</td>\n",
       "      <td>2014-11-14</td>\n",
       "      <td>5505</td>\n",
       "    </tr>\n",
       "  </tbody>\n",
       "</table>\n",
       "</div>"
      ],
      "text/plain": [
       "  Animal ID     outcome_type Sex upon Outcome outcome_date  age_in_days\n",
       "0   A006100  Return to Owner    Neutered Male   2017-12-07         3804\n",
       "1   A047759         Transfer    Neutered Male   2014-04-07         3657\n",
       "2   A134067  Return to Owner    Neutered Male   2013-11-16         5875\n",
       "3   A141142  Return to Owner    Spayed Female   2013-11-17         5648\n",
       "4   A163459  Return to Owner    Intact Female   2014-11-14         5505"
      ]
     },
     "execution_count": 31,
     "metadata": {},
     "output_type": "execute_result"
    }
   ],
   "source": [
    "outcomes.head()"
   ]
  },
  {
   "cell_type": "code",
   "execution_count": 32,
   "id": "535a1ef1",
   "metadata": {},
   "outputs": [
    {
     "name": "stdout",
     "output_type": "stream",
     "text": [
      "<class 'pandas.core.frame.DataFrame'>\n",
      "RangeIndex: 118342 entries, 0 to 118341\n",
      "Data columns (total 5 columns):\n",
      " #   Column            Non-Null Count   Dtype         \n",
      "---  ------            --------------   -----         \n",
      " 0   Animal ID         118342 non-null  object        \n",
      " 1   outcome_type      118321 non-null  object        \n",
      " 2   Sex upon Outcome  118341 non-null  object        \n",
      " 3   outcome_date      118342 non-null  datetime64[ns]\n",
      " 4   age_in_days       118342 non-null  int64         \n",
      "dtypes: datetime64[ns](1), int64(1), object(3)\n",
      "memory usage: 4.5+ MB\n"
     ]
    }
   ],
   "source": [
    "outcomes.info()"
   ]
  },
  {
   "cell_type": "markdown",
   "id": "a2aa9e08",
   "metadata": {},
   "source": [
    "### Merge the Intake and Outcome dataframes on Animal ID"
   ]
  },
  {
   "cell_type": "code",
   "execution_count": 33,
   "id": "38292529",
   "metadata": {},
   "outputs": [],
   "source": [
    "animals = intakes.merge(right = outcomes, how = 'left', on = 'Animal ID')"
   ]
  },
  {
   "cell_type": "code",
   "execution_count": 34,
   "id": "32e96106",
   "metadata": {},
   "outputs": [
    {
     "data": {
      "text/html": [
       "<div>\n",
       "<style scoped>\n",
       "    .dataframe tbody tr th:only-of-type {\n",
       "        vertical-align: middle;\n",
       "    }\n",
       "\n",
       "    .dataframe tbody tr th {\n",
       "        vertical-align: top;\n",
       "    }\n",
       "\n",
       "    .dataframe thead th {\n",
       "        text-align: right;\n",
       "    }\n",
       "</style>\n",
       "<table border=\"1\" class=\"dataframe\">\n",
       "  <thead>\n",
       "    <tr style=\"text-align: right;\">\n",
       "      <th></th>\n",
       "      <th>Animal ID</th>\n",
       "      <th>intake_type</th>\n",
       "      <th>intake_condition</th>\n",
       "      <th>animal_type</th>\n",
       "      <th>Breed</th>\n",
       "      <th>Color</th>\n",
       "      <th>intake_date</th>\n",
       "      <th>outcome_type</th>\n",
       "      <th>Sex upon Outcome</th>\n",
       "      <th>outcome_date</th>\n",
       "      <th>age_in_days</th>\n",
       "    </tr>\n",
       "  </thead>\n",
       "  <tbody>\n",
       "    <tr>\n",
       "      <th>0</th>\n",
       "      <td>A006100</td>\n",
       "      <td>Stray</td>\n",
       "      <td>Normal</td>\n",
       "      <td>Dog</td>\n",
       "      <td>Spinone Italiano Mix</td>\n",
       "      <td>Yellow/White</td>\n",
       "      <td>2017-12-07</td>\n",
       "      <td>Return to Owner</td>\n",
       "      <td>Neutered Male</td>\n",
       "      <td>2017-12-07</td>\n",
       "      <td>3804.0</td>\n",
       "    </tr>\n",
       "    <tr>\n",
       "      <th>1</th>\n",
       "      <td>A047759</td>\n",
       "      <td>Owner Surrender</td>\n",
       "      <td>Normal</td>\n",
       "      <td>Dog</td>\n",
       "      <td>Dachshund</td>\n",
       "      <td>Tricolor</td>\n",
       "      <td>2014-04-02</td>\n",
       "      <td>Transfer</td>\n",
       "      <td>Neutered Male</td>\n",
       "      <td>2014-04-07</td>\n",
       "      <td>3657.0</td>\n",
       "    </tr>\n",
       "    <tr>\n",
       "      <th>2</th>\n",
       "      <td>A134067</td>\n",
       "      <td>Public Assist</td>\n",
       "      <td>Injured</td>\n",
       "      <td>Dog</td>\n",
       "      <td>Shetland Sheepdog</td>\n",
       "      <td>Brown/White</td>\n",
       "      <td>2013-11-16</td>\n",
       "      <td>Return to Owner</td>\n",
       "      <td>Neutered Male</td>\n",
       "      <td>2013-11-16</td>\n",
       "      <td>5875.0</td>\n",
       "    </tr>\n",
       "    <tr>\n",
       "      <th>3</th>\n",
       "      <td>A141142</td>\n",
       "      <td>Stray</td>\n",
       "      <td>Aged</td>\n",
       "      <td>Dog</td>\n",
       "      <td>Labrador Retriever/Pit Bull</td>\n",
       "      <td>Black/White</td>\n",
       "      <td>2013-11-16</td>\n",
       "      <td>Return to Owner</td>\n",
       "      <td>Spayed Female</td>\n",
       "      <td>2013-11-17</td>\n",
       "      <td>5648.0</td>\n",
       "    </tr>\n",
       "    <tr>\n",
       "      <th>4</th>\n",
       "      <td>A163459</td>\n",
       "      <td>Stray</td>\n",
       "      <td>Normal</td>\n",
       "      <td>Dog</td>\n",
       "      <td>Miniature Schnauzer Mix</td>\n",
       "      <td>Black/Gray</td>\n",
       "      <td>2014-11-14</td>\n",
       "      <td>Return to Owner</td>\n",
       "      <td>Intact Female</td>\n",
       "      <td>2014-11-14</td>\n",
       "      <td>5505.0</td>\n",
       "    </tr>\n",
       "  </tbody>\n",
       "</table>\n",
       "</div>"
      ],
      "text/plain": [
       "  Animal ID      intake_type intake_condition animal_type  \\\n",
       "0   A006100            Stray           Normal         Dog   \n",
       "1   A047759  Owner Surrender           Normal         Dog   \n",
       "2   A134067    Public Assist          Injured         Dog   \n",
       "3   A141142            Stray             Aged         Dog   \n",
       "4   A163459            Stray           Normal         Dog   \n",
       "\n",
       "                         Breed         Color intake_date     outcome_type  \\\n",
       "0         Spinone Italiano Mix  Yellow/White  2017-12-07  Return to Owner   \n",
       "1                    Dachshund      Tricolor  2014-04-02         Transfer   \n",
       "2            Shetland Sheepdog   Brown/White  2013-11-16  Return to Owner   \n",
       "3  Labrador Retriever/Pit Bull   Black/White  2013-11-16  Return to Owner   \n",
       "4      Miniature Schnauzer Mix    Black/Gray  2014-11-14  Return to Owner   \n",
       "\n",
       "  Sex upon Outcome outcome_date  age_in_days  \n",
       "0    Neutered Male   2017-12-07       3804.0  \n",
       "1    Neutered Male   2014-04-07       3657.0  \n",
       "2    Neutered Male   2013-11-16       5875.0  \n",
       "3    Spayed Female   2013-11-17       5648.0  \n",
       "4    Intact Female   2014-11-14       5505.0  "
      ]
     },
     "execution_count": 34,
     "metadata": {},
     "output_type": "execute_result"
    }
   ],
   "source": [
    "animals.head()"
   ]
  },
  {
   "cell_type": "code",
   "execution_count": 35,
   "id": "7b47cefb",
   "metadata": {},
   "outputs": [
    {
     "name": "stdout",
     "output_type": "stream",
     "text": [
      "<class 'pandas.core.frame.DataFrame'>\n",
      "Int64Index: 118225 entries, 0 to 118224\n",
      "Data columns (total 11 columns):\n",
      " #   Column            Non-Null Count   Dtype         \n",
      "---  ------            --------------   -----         \n",
      " 0   Animal ID         118225 non-null  object        \n",
      " 1   intake_type       118225 non-null  object        \n",
      " 2   intake_condition  118225 non-null  object        \n",
      " 3   animal_type       118225 non-null  object        \n",
      " 4   Breed             118225 non-null  object        \n",
      " 5   Color             118225 non-null  object        \n",
      " 6   intake_date       118225 non-null  datetime64[ns]\n",
      " 7   outcome_type      117507 non-null  object        \n",
      " 8   Sex upon Outcome  117527 non-null  object        \n",
      " 9   outcome_date      117528 non-null  datetime64[ns]\n",
      " 10  age_in_days       117528 non-null  float64       \n",
      "dtypes: datetime64[ns](2), float64(1), object(8)\n",
      "memory usage: 10.8+ MB\n"
     ]
    }
   ],
   "source": [
    "animals.info()"
   ]
  },
  {
   "cell_type": "code",
   "execution_count": 36,
   "id": "76b82c51",
   "metadata": {},
   "outputs": [
    {
     "data": {
      "text/plain": [
       "Adoption           51331\n",
       "Transfer           37527\n",
       "Return to Owner    17350\n",
       "Euthanasia          8779\n",
       "Died                1233\n",
       "Disposal             607\n",
       "Rto-Adopt            599\n",
       "Missing               57\n",
       "Relocate              24\n",
       "Name: outcome_type, dtype: int64"
      ]
     },
     "execution_count": 36,
     "metadata": {},
     "output_type": "execute_result"
    }
   ],
   "source": [
    "animals.outcome_type.value_counts()"
   ]
  },
  {
   "cell_type": "code",
   "execution_count": null,
   "id": "50fc884e",
   "metadata": {},
   "outputs": [],
   "source": []
  }
 ],
 "metadata": {
  "kernelspec": {
   "display_name": "Python 3",
   "language": "python",
   "name": "python3"
  },
  "language_info": {
   "codemirror_mode": {
    "name": "ipython",
    "version": 3
   },
   "file_extension": ".py",
   "mimetype": "text/x-python",
   "name": "python",
   "nbconvert_exporter": "python",
   "pygments_lexer": "ipython3",
   "version": "3.9.1"
  }
 },
 "nbformat": 4,
 "nbformat_minor": 5
}
